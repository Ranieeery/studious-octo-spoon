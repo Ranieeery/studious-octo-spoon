{
 "cells": [
  {
   "cell_type": "markdown",
   "metadata": {
    "id": "JnJiumKC_ah-"
   },
   "source": [
    "# Atividade Assíncrona - Aula 3 - Python para Iniciantes na Análise de Dados\n",
    "\n",
    "Este exercício tem como objetivo revisar todos os conceitos apresentados na Aula 2.  \n",
    "\n",
    "Siga as instruções abaixo e envie para avaliação utilizando o dataset (alunos_classificados.csv)"
   ]
  },
  {
   "cell_type": "markdown",
   "metadata": {
    "id": "vAXwjrLN_B0P"
   },
   "source": [
    "\n",
    "1. Mostre a quantidade de alunos por tipo de vaga (VAGA)\n",
    "\n",
    "\n",
    "2. Mostre a distribuição de alunos por sexo (SEXO)\n",
    "\n",
    "\n",
    "3. Mostre a distribuição da pontuação (PONTUACAO)\n",
    "\n",
    "\n",
    "4. Compare a pontuação entre os sexos\n",
    "\n",
    "\n",
    "Instruções: <br>\n",
    "Execute cada gráfico e observe o comportamento dos dados.\n",
    "\n",
    "Escreva uma frase interpretando o que o gráfico mostra.\n",
    "\n",
    "Tente modificar um dos gráficos (ex: trocando SEXO por VAGA) e veja como o resultado muda.\n",
    "\n",
    "### Envio\n",
    "\n",
    "Salve seu código no colab e envie no formulário de atividade assíncrona localizado no drive.\n"
   ]
  },
  {
   "cell_type": "code",
   "execution_count": 13,
   "metadata": {
    "executionInfo": {
     "elapsed": 45,
     "status": "ok",
     "timestamp": 1748561957766,
     "user": {
      "displayName": "Raniery Meireles",
      "userId": "08655966175289892114"
     },
     "user_tz": 180
    },
    "id": "b_Q9uB1BXdTt"
   },
   "outputs": [],
   "source": [
    "import pandas as pd\n",
    "import numpy as np\n",
    "import matplotlib.pyplot as plt\n",
    "import seaborn as sns"
   ]
  },
  {
   "cell_type": "code",
   "execution_count": 14,
   "metadata": {
    "colab": {
     "base_uri": "https://localhost:8080/",
     "height": 206
    },
    "executionInfo": {
     "elapsed": 79,
     "status": "ok",
     "timestamp": 1748561959047,
     "user": {
      "displayName": "Raniery Meireles",
      "userId": "08655966175289892114"
     },
     "user_tz": 180
    },
    "id": "ehDQ7TIBX9hv",
    "outputId": "8dc72bac-1dfc-4774-f164-ac84513cec68"
   },
   "outputs": [
    {
     "data": {
      "application/vnd.google.colaboratory.intrinsic+json": {
       "summary": "{\n  \"name\": \"df\",\n  \"rows\": 458,\n  \"fields\": [\n    {\n      \"column\": \"SEXO\",\n      \"properties\": {\n        \"dtype\": \"category\",\n        \"num_unique_values\": 2,\n        \"samples\": [\n          \"M\",\n          \"F\"\n        ],\n        \"semantic_type\": \"\",\n        \"description\": \"\"\n      }\n    },\n    {\n      \"column\": \"VAGA\",\n      \"properties\": {\n        \"dtype\": \"category\",\n        \"num_unique_values\": 9,\n        \"samples\": [\n          \"ERPCD\",\n          \"ERPPI\"\n        ],\n        \"semantic_type\": \"\",\n        \"description\": \"\"\n      }\n    },\n    {\n      \"column\": \"CLASSIFICACAO\",\n      \"properties\": {\n        \"dtype\": \"number\",\n        \"std\": 69.10793602257897,\n        \"min\": 482.7,\n        \"max\": 835.34,\n        \"num_unique_values\": 453,\n        \"samples\": [\n          611.29,\n          694.41\n        ],\n        \"semantic_type\": \"\",\n        \"description\": \"\"\n      }\n    },\n    {\n      \"column\": \"PONTUACAO\",\n      \"properties\": {\n        \"dtype\": \"number\",\n        \"std\": 6,\n        \"min\": 1,\n        \"max\": 39,\n        \"num_unique_values\": 39,\n        \"samples\": [\n          33,\n          27\n        ],\n        \"semantic_type\": \"\",\n        \"description\": \"\"\n      }\n    },\n    {\n      \"column\": \"COLOCACAO\",\n      \"properties\": {\n        \"dtype\": \"category\",\n        \"num_unique_values\": 2,\n        \"samples\": [\n          \"N\\u00e3o\",\n          \"Sim\"\n        ],\n        \"semantic_type\": \"\",\n        \"description\": \"\"\n      }\n    },\n    {\n      \"column\": \"E\",\n      \"properties\": {\n        \"dtype\": \"category\",\n        \"num_unique_values\": 2,\n        \"samples\": [\n          \"Sim\",\n          \"N\\u00e3o\"\n        ],\n        \"semantic_type\": \"\",\n        \"description\": \"\"\n      }\n    },\n    {\n      \"column\": \"R\",\n      \"properties\": {\n        \"dtype\": \"category\",\n        \"num_unique_values\": 2,\n        \"samples\": [\n          \"Sim\",\n          \"N\\u00e3o\"\n        ],\n        \"semantic_type\": \"\",\n        \"description\": \"\"\n      }\n    },\n    {\n      \"column\": \"PCD\",\n      \"properties\": {\n        \"dtype\": \"category\",\n        \"num_unique_values\": 2,\n        \"samples\": [\n          \"N\\u00e3o\",\n          \"Sim\"\n        ],\n        \"semantic_type\": \"\",\n        \"description\": \"\"\n      }\n    },\n    {\n      \"column\": \"PPI\",\n      \"properties\": {\n        \"dtype\": \"category\",\n        \"num_unique_values\": 2,\n        \"samples\": [\n          \"Sim\",\n          \"N\\u00e3o\"\n        ],\n        \"semantic_type\": \"\",\n        \"description\": \"\"\n      }\n    },\n    {\n      \"column\": \"Q\",\n      \"properties\": {\n        \"dtype\": \"category\",\n        \"num_unique_values\": 8,\n        \"samples\": [\n          \"SISTEMA DE INFORMACAO\",\n          \"LETRAS ESPANHOL\"\n        ],\n        \"semantic_type\": \"\",\n        \"description\": \"\"\n      }\n    },\n    {\n      \"column\": \"CURSO\",\n      \"properties\": {\n        \"dtype\": \"category\",\n        \"num_unique_values\": 3,\n        \"samples\": [\n          \"CASTANHAL\",\n          \"CASTANHAL SAO CAETANO DE ODIVELAS\"\n        ],\n        \"semantic_type\": \"\",\n        \"description\": \"\"\n      }\n    },\n    {\n      \"column\": \"CAMPUS\",\n      \"properties\": {\n        \"dtype\": \"category\",\n        \"num_unique_values\": 2,\n        \"samples\": [\n          \"LICENCIATURA\",\n          \"BACHARELADO\"\n        ],\n        \"semantic_type\": \"\",\n        \"description\": \"\"\n      }\n    },\n    {\n      \"column\": \"GRAU\",\n      \"properties\": {\n        \"dtype\": \"category\",\n        \"num_unique_values\": 3,\n        \"samples\": [\n          \"INTENSIVO\",\n          \"EXTENSIVO \"\n        ],\n        \"semantic_type\": \"\",\n        \"description\": \"\"\n      }\n    },\n    {\n      \"column\": \"MODALIDADE\",\n      \"properties\": {\n        \"dtype\": \"category\",\n        \"num_unique_values\": 4,\n        \"samples\": [\n          \"VESPERTINO\",\n          \"NOTURNO\"\n        ],\n        \"semantic_type\": \"\",\n        \"description\": \"\"\n      }\n    },\n    {\n      \"column\": \"TURNO\",\n      \"properties\": {\n        \"dtype\": \"category\",\n        \"num_unique_values\": 3,\n        \"samples\": [\n          \"2\",\n          \"1\"\n        ],\n        \"semantic_type\": \"\",\n        \"description\": \"\"\n      }\n    },\n    {\n      \"column\": \"ENTRADA\",\n      \"properties\": {\n        \"dtype\": \"number\",\n        \"std\": null,\n        \"min\": null,\n        \"max\": null,\n        \"num_unique_values\": 0,\n        \"samples\": [],\n        \"semantic_type\": \"\",\n        \"description\": \"\"\n      }\n    }\n  ]\n}",
       "type": "dataframe",
       "variable_name": "df"
      },
      "text/html": [
       "\n",
       "  <div id=\"df-2253cca7-da8b-4233-abab-28c8dcfc07bc\" class=\"colab-df-container\">\n",
       "    <div>\n",
       "<style scoped>\n",
       "    .dataframe tbody tr th:only-of-type {\n",
       "        vertical-align: middle;\n",
       "    }\n",
       "\n",
       "    .dataframe tbody tr th {\n",
       "        vertical-align: top;\n",
       "    }\n",
       "\n",
       "    .dataframe thead th {\n",
       "        text-align: right;\n",
       "    }\n",
       "</style>\n",
       "<table border=\"1\" class=\"dataframe\">\n",
       "  <thead>\n",
       "    <tr style=\"text-align: right;\">\n",
       "      <th></th>\n",
       "      <th>SEXO</th>\n",
       "      <th>VAGA</th>\n",
       "      <th>CLASSIFICACAO</th>\n",
       "      <th>PONTUACAO</th>\n",
       "      <th>COLOCACAO</th>\n",
       "      <th>E</th>\n",
       "      <th>R</th>\n",
       "      <th>PCD</th>\n",
       "      <th>PPI</th>\n",
       "      <th>Q</th>\n",
       "      <th>CURSO</th>\n",
       "      <th>CAMPUS</th>\n",
       "      <th>GRAU</th>\n",
       "      <th>MODALIDADE</th>\n",
       "      <th>TURNO</th>\n",
       "      <th>ENTRADA</th>\n",
       "    </tr>\n",
       "  </thead>\n",
       "  <tbody>\n",
       "    <tr>\n",
       "      <th>0</th>\n",
       "      <td>F</td>\n",
       "      <td>EPPI</td>\n",
       "      <td>666.49</td>\n",
       "      <td>6</td>\n",
       "      <td>Sim</td>\n",
       "      <td>Não</td>\n",
       "      <td>Não</td>\n",
       "      <td>Sim</td>\n",
       "      <td>Não</td>\n",
       "      <td>MEDICINA VETERINARIA</td>\n",
       "      <td>CASTANHAL</td>\n",
       "      <td>BACHARELADO</td>\n",
       "      <td>INTENSIVO</td>\n",
       "      <td>INTEGRAL</td>\n",
       "      <td>2</td>\n",
       "      <td>NaN</td>\n",
       "    </tr>\n",
       "    <tr>\n",
       "      <th>1</th>\n",
       "      <td>M</td>\n",
       "      <td>ERPPI</td>\n",
       "      <td>626.36</td>\n",
       "      <td>1</td>\n",
       "      <td>Sim</td>\n",
       "      <td>Sim</td>\n",
       "      <td>Não</td>\n",
       "      <td>Sim</td>\n",
       "      <td>Não</td>\n",
       "      <td>MEDICINA VETERINARIA</td>\n",
       "      <td>CASTANHAL</td>\n",
       "      <td>BACHARELADO</td>\n",
       "      <td>INTENSIVO</td>\n",
       "      <td>INTEGRAL</td>\n",
       "      <td>2</td>\n",
       "      <td>NaN</td>\n",
       "    </tr>\n",
       "    <tr>\n",
       "      <th>2</th>\n",
       "      <td>F</td>\n",
       "      <td>AC</td>\n",
       "      <td>721.20</td>\n",
       "      <td>9</td>\n",
       "      <td>Não</td>\n",
       "      <td>Não</td>\n",
       "      <td>Não</td>\n",
       "      <td>Não</td>\n",
       "      <td>Não</td>\n",
       "      <td>MEDICINA VETERINARIA</td>\n",
       "      <td>CASTANHAL</td>\n",
       "      <td>BACHARELADO</td>\n",
       "      <td>INTENSIVO</td>\n",
       "      <td>INTEGRAL</td>\n",
       "      <td>2</td>\n",
       "      <td>NaN</td>\n",
       "    </tr>\n",
       "    <tr>\n",
       "      <th>3</th>\n",
       "      <td>F</td>\n",
       "      <td>ERPPI</td>\n",
       "      <td>622.07</td>\n",
       "      <td>1</td>\n",
       "      <td>Sim</td>\n",
       "      <td>Sim</td>\n",
       "      <td>Não</td>\n",
       "      <td>Sim</td>\n",
       "      <td>Não</td>\n",
       "      <td>MEDICINA VETERINARIA</td>\n",
       "      <td>CASTANHAL</td>\n",
       "      <td>BACHARELADO</td>\n",
       "      <td>INTENSIVO</td>\n",
       "      <td>INTEGRAL</td>\n",
       "      <td>2</td>\n",
       "      <td>NaN</td>\n",
       "    </tr>\n",
       "    <tr>\n",
       "      <th>4</th>\n",
       "      <td>F</td>\n",
       "      <td>AC</td>\n",
       "      <td>732.93</td>\n",
       "      <td>5</td>\n",
       "      <td>Sim</td>\n",
       "      <td>Não</td>\n",
       "      <td>Não</td>\n",
       "      <td>Não</td>\n",
       "      <td>Não</td>\n",
       "      <td>MEDICINA VETERINARIA</td>\n",
       "      <td>CASTANHAL</td>\n",
       "      <td>BACHARELADO</td>\n",
       "      <td>INTENSIVO</td>\n",
       "      <td>INTEGRAL</td>\n",
       "      <td>2</td>\n",
       "      <td>NaN</td>\n",
       "    </tr>\n",
       "  </tbody>\n",
       "</table>\n",
       "</div>\n",
       "    <div class=\"colab-df-buttons\">\n",
       "\n",
       "  <div class=\"colab-df-container\">\n",
       "    <button class=\"colab-df-convert\" onclick=\"convertToInteractive('df-2253cca7-da8b-4233-abab-28c8dcfc07bc')\"\n",
       "            title=\"Convert this dataframe to an interactive table.\"\n",
       "            style=\"display:none;\">\n",
       "\n",
       "  <svg xmlns=\"http://www.w3.org/2000/svg\" height=\"24px\" viewBox=\"0 -960 960 960\">\n",
       "    <path d=\"M120-120v-720h720v720H120Zm60-500h600v-160H180v160Zm220 220h160v-160H400v160Zm0 220h160v-160H400v160ZM180-400h160v-160H180v160Zm440 0h160v-160H620v160ZM180-180h160v-160H180v160Zm440 0h160v-160H620v160Z\"/>\n",
       "  </svg>\n",
       "    </button>\n",
       "\n",
       "  <style>\n",
       "    .colab-df-container {\n",
       "      display:flex;\n",
       "      gap: 12px;\n",
       "    }\n",
       "\n",
       "    .colab-df-convert {\n",
       "      background-color: #E8F0FE;\n",
       "      border: none;\n",
       "      border-radius: 50%;\n",
       "      cursor: pointer;\n",
       "      display: none;\n",
       "      fill: #1967D2;\n",
       "      height: 32px;\n",
       "      padding: 0 0 0 0;\n",
       "      width: 32px;\n",
       "    }\n",
       "\n",
       "    .colab-df-convert:hover {\n",
       "      background-color: #E2EBFA;\n",
       "      box-shadow: 0px 1px 2px rgba(60, 64, 67, 0.3), 0px 1px 3px 1px rgba(60, 64, 67, 0.15);\n",
       "      fill: #174EA6;\n",
       "    }\n",
       "\n",
       "    .colab-df-buttons div {\n",
       "      margin-bottom: 4px;\n",
       "    }\n",
       "\n",
       "    [theme=dark] .colab-df-convert {\n",
       "      background-color: #3B4455;\n",
       "      fill: #D2E3FC;\n",
       "    }\n",
       "\n",
       "    [theme=dark] .colab-df-convert:hover {\n",
       "      background-color: #434B5C;\n",
       "      box-shadow: 0px 1px 3px 1px rgba(0, 0, 0, 0.15);\n",
       "      filter: drop-shadow(0px 1px 2px rgba(0, 0, 0, 0.3));\n",
       "      fill: #FFFFFF;\n",
       "    }\n",
       "  </style>\n",
       "\n",
       "    <script>\n",
       "      const buttonEl =\n",
       "        document.querySelector('#df-2253cca7-da8b-4233-abab-28c8dcfc07bc button.colab-df-convert');\n",
       "      buttonEl.style.display =\n",
       "        google.colab.kernel.accessAllowed ? 'block' : 'none';\n",
       "\n",
       "      async function convertToInteractive(key) {\n",
       "        const element = document.querySelector('#df-2253cca7-da8b-4233-abab-28c8dcfc07bc');\n",
       "        const dataTable =\n",
       "          await google.colab.kernel.invokeFunction('convertToInteractive',\n",
       "                                                    [key], {});\n",
       "        if (!dataTable) return;\n",
       "\n",
       "        const docLinkHtml = 'Like what you see? Visit the ' +\n",
       "          '<a target=\"_blank\" href=https://colab.research.google.com/notebooks/data_table.ipynb>data table notebook</a>'\n",
       "          + ' to learn more about interactive tables.';\n",
       "        element.innerHTML = '';\n",
       "        dataTable['output_type'] = 'display_data';\n",
       "        await google.colab.output.renderOutput(dataTable, element);\n",
       "        const docLink = document.createElement('div');\n",
       "        docLink.innerHTML = docLinkHtml;\n",
       "        element.appendChild(docLink);\n",
       "      }\n",
       "    </script>\n",
       "  </div>\n",
       "\n",
       "\n",
       "    <div id=\"df-527cb48d-429e-4f65-9c3a-2acb72dd0180\">\n",
       "      <button class=\"colab-df-quickchart\" onclick=\"quickchart('df-527cb48d-429e-4f65-9c3a-2acb72dd0180')\"\n",
       "                title=\"Suggest charts\"\n",
       "                style=\"display:none;\">\n",
       "\n",
       "<svg xmlns=\"http://www.w3.org/2000/svg\" height=\"24px\"viewBox=\"0 0 24 24\"\n",
       "     width=\"24px\">\n",
       "    <g>\n",
       "        <path d=\"M19 3H5c-1.1 0-2 .9-2 2v14c0 1.1.9 2 2 2h14c1.1 0 2-.9 2-2V5c0-1.1-.9-2-2-2zM9 17H7v-7h2v7zm4 0h-2V7h2v10zm4 0h-2v-4h2v4z\"/>\n",
       "    </g>\n",
       "</svg>\n",
       "      </button>\n",
       "\n",
       "<style>\n",
       "  .colab-df-quickchart {\n",
       "      --bg-color: #E8F0FE;\n",
       "      --fill-color: #1967D2;\n",
       "      --hover-bg-color: #E2EBFA;\n",
       "      --hover-fill-color: #174EA6;\n",
       "      --disabled-fill-color: #AAA;\n",
       "      --disabled-bg-color: #DDD;\n",
       "  }\n",
       "\n",
       "  [theme=dark] .colab-df-quickchart {\n",
       "      --bg-color: #3B4455;\n",
       "      --fill-color: #D2E3FC;\n",
       "      --hover-bg-color: #434B5C;\n",
       "      --hover-fill-color: #FFFFFF;\n",
       "      --disabled-bg-color: #3B4455;\n",
       "      --disabled-fill-color: #666;\n",
       "  }\n",
       "\n",
       "  .colab-df-quickchart {\n",
       "    background-color: var(--bg-color);\n",
       "    border: none;\n",
       "    border-radius: 50%;\n",
       "    cursor: pointer;\n",
       "    display: none;\n",
       "    fill: var(--fill-color);\n",
       "    height: 32px;\n",
       "    padding: 0;\n",
       "    width: 32px;\n",
       "  }\n",
       "\n",
       "  .colab-df-quickchart:hover {\n",
       "    background-color: var(--hover-bg-color);\n",
       "    box-shadow: 0 1px 2px rgba(60, 64, 67, 0.3), 0 1px 3px 1px rgba(60, 64, 67, 0.15);\n",
       "    fill: var(--button-hover-fill-color);\n",
       "  }\n",
       "\n",
       "  .colab-df-quickchart-complete:disabled,\n",
       "  .colab-df-quickchart-complete:disabled:hover {\n",
       "    background-color: var(--disabled-bg-color);\n",
       "    fill: var(--disabled-fill-color);\n",
       "    box-shadow: none;\n",
       "  }\n",
       "\n",
       "  .colab-df-spinner {\n",
       "    border: 2px solid var(--fill-color);\n",
       "    border-color: transparent;\n",
       "    border-bottom-color: var(--fill-color);\n",
       "    animation:\n",
       "      spin 1s steps(1) infinite;\n",
       "  }\n",
       "\n",
       "  @keyframes spin {\n",
       "    0% {\n",
       "      border-color: transparent;\n",
       "      border-bottom-color: var(--fill-color);\n",
       "      border-left-color: var(--fill-color);\n",
       "    }\n",
       "    20% {\n",
       "      border-color: transparent;\n",
       "      border-left-color: var(--fill-color);\n",
       "      border-top-color: var(--fill-color);\n",
       "    }\n",
       "    30% {\n",
       "      border-color: transparent;\n",
       "      border-left-color: var(--fill-color);\n",
       "      border-top-color: var(--fill-color);\n",
       "      border-right-color: var(--fill-color);\n",
       "    }\n",
       "    40% {\n",
       "      border-color: transparent;\n",
       "      border-right-color: var(--fill-color);\n",
       "      border-top-color: var(--fill-color);\n",
       "    }\n",
       "    60% {\n",
       "      border-color: transparent;\n",
       "      border-right-color: var(--fill-color);\n",
       "    }\n",
       "    80% {\n",
       "      border-color: transparent;\n",
       "      border-right-color: var(--fill-color);\n",
       "      border-bottom-color: var(--fill-color);\n",
       "    }\n",
       "    90% {\n",
       "      border-color: transparent;\n",
       "      border-bottom-color: var(--fill-color);\n",
       "    }\n",
       "  }\n",
       "</style>\n",
       "\n",
       "      <script>\n",
       "        async function quickchart(key) {\n",
       "          const quickchartButtonEl =\n",
       "            document.querySelector('#' + key + ' button');\n",
       "          quickchartButtonEl.disabled = true;  // To prevent multiple clicks.\n",
       "          quickchartButtonEl.classList.add('colab-df-spinner');\n",
       "          try {\n",
       "            const charts = await google.colab.kernel.invokeFunction(\n",
       "                'suggestCharts', [key], {});\n",
       "          } catch (error) {\n",
       "            console.error('Error during call to suggestCharts:', error);\n",
       "          }\n",
       "          quickchartButtonEl.classList.remove('colab-df-spinner');\n",
       "          quickchartButtonEl.classList.add('colab-df-quickchart-complete');\n",
       "        }\n",
       "        (() => {\n",
       "          let quickchartButtonEl =\n",
       "            document.querySelector('#df-527cb48d-429e-4f65-9c3a-2acb72dd0180 button');\n",
       "          quickchartButtonEl.style.display =\n",
       "            google.colab.kernel.accessAllowed ? 'block' : 'none';\n",
       "        })();\n",
       "      </script>\n",
       "    </div>\n",
       "\n",
       "    </div>\n",
       "  </div>\n"
      ],
      "text/plain": [
       "  SEXO   VAGA  CLASSIFICACAO  PONTUACAO COLOCACAO    E    R  PCD  PPI  \\\n",
       "0    F   EPPI         666.49          6       Sim  Não  Não  Sim  Não   \n",
       "1    M  ERPPI         626.36          1       Sim  Sim  Não  Sim  Não   \n",
       "2    F     AC         721.20          9       Não  Não  Não  Não  Não   \n",
       "3    F  ERPPI         622.07          1       Sim  Sim  Não  Sim  Não   \n",
       "4    F     AC         732.93          5       Sim  Não  Não  Não  Não   \n",
       "\n",
       "                      Q      CURSO       CAMPUS       GRAU MODALIDADE TURNO  \\\n",
       "0  MEDICINA VETERINARIA  CASTANHAL  BACHARELADO  INTENSIVO   INTEGRAL     2   \n",
       "1  MEDICINA VETERINARIA  CASTANHAL  BACHARELADO  INTENSIVO   INTEGRAL     2   \n",
       "2  MEDICINA VETERINARIA  CASTANHAL  BACHARELADO  INTENSIVO   INTEGRAL     2   \n",
       "3  MEDICINA VETERINARIA  CASTANHAL  BACHARELADO  INTENSIVO   INTEGRAL     2   \n",
       "4  MEDICINA VETERINARIA  CASTANHAL  BACHARELADO  INTENSIVO   INTEGRAL     2   \n",
       "\n",
       "   ENTRADA  \n",
       "0      NaN  \n",
       "1      NaN  \n",
       "2      NaN  \n",
       "3      NaN  \n",
       "4      NaN  "
      ]
     },
     "execution_count": 14,
     "metadata": {},
     "output_type": "execute_result"
    }
   ],
   "source": [
    "df = pd.read_csv(\"alunos_classificados.csv\")\n",
    "\n",
    "df.head()"
   ]
  },
  {
   "cell_type": "code",
   "execution_count": 22,
   "metadata": {
    "colab": {
     "base_uri": "https://localhost:8080/",
     "height": 472
    },
    "executionInfo": {
     "elapsed": 669,
     "status": "ok",
     "timestamp": 1748562724770,
     "user": {
      "displayName": "Raniery Meireles",
      "userId": "08655966175289892114"
     },
     "user_tz": 180
    },
    "id": "QRpvzvoAZzSs",
    "outputId": "8c880b79-2303-4f79-c5e7-61166219a5ae"
   },
   "outputs": [
    {
     "data": {
      "image/png": "[encoded data removed]",
      "text/plain": [
       "<Figure size 640x480 with 1 Axes>"
      ]
     },
     "metadata": {},
     "output_type": "display_data"
    }
   ],
   "source": [
    "# 1. Mostre a quantidade de alunos por tipo de vaga (VAGA)\n",
    "\n",
    "plt.bar(df['VAGA'], df.index)\n",
    "\n",
    "plt.title('Gráfico de quantidade de alunos por tipo de vaga')\n",
    "plt.xlabel('Tipos de vagas')\n",
    "plt.ylabel('Qntd. alunos')\n",
    "plt.show()"
   ]
  },
  {
   "cell_type": "code",
   "execution_count": 24,
   "metadata": {
    "colab": {
     "base_uri": "https://localhost:8080/",
     "height": 521
    },
    "executionInfo": {
     "elapsed": 75,
     "status": "ok",
     "timestamp": 1748564526103,
     "user": {
      "displayName": "Raniery Meireles",
      "userId": "08655966175289892114"
     },
     "user_tz": 180
    },
    "id": "i5dhZQeIkLwl",
    "outputId": "52c8bfda-19ff-41c8-a1e5-837065817b58"
   },
   "outputs": [
    {
     "data": {
      "image/png": "[encoded data removed]",
      "text/plain": [
       "<Figure size 600x600 with 1 Axes>"
      ]
     },
     "metadata": {},
     "output_type": "display_data"
    }
   ],
   "source": [
    "# Distribuição de alunos por sexo (SEXO)\n",
    "\n",
    "plt.figure(figsize=(6, 6))\n",
    "df['SEXO'].value_counts().plot.pie(autopct='%1.1f%%', startangle=90)\n",
    "plt.title('Distribuição de alunos por sexo')\n",
    "plt.ylabel('')\n",
    "plt.show()"
   ]
  },
  {
   "cell_type": "code",
   "execution_count": 1,
   "metadata": {
    "colab": {
     "base_uri": "https://localhost:8080/",
     "height": 564
    },
    "executionInfo": {
     "elapsed": 263,
     "status": "ok",
     "timestamp": 1748564668351,
     "user": {
      "displayName": "Raniery Meireles",
      "userId": "08655966175289892114"
     },
     "user_tz": 180
    },
    "id": "l1Qj9Uy5kXF8",
    "outputId": "6ae0fa28-b3cc-48d9-8364-1a1bd3d2c852"
   },
   "outputs": [
    {
     "ename": "NameError",
     "evalue": "name 'plt' is not defined",
     "output_type": "error",
     "traceback": [
      "\u001b[31m---------------------------------------------------------------------------\u001b[39m",
      "\u001b[31mNameError\u001b[39m                                 Traceback (most recent call last)",
      "\u001b[36mCell\u001b[39m\u001b[36m \u001b[39m\u001b[32mIn[1]\u001b[39m\u001b[32m, line 3\u001b[39m\n\u001b[32m      1\u001b[39m \u001b[38;5;66;03m# Distribuição da pontuação (PONTUACAO)\u001b[39;00m\n\u001b[32m----> \u001b[39m\u001b[32m3\u001b[39m \u001b[43mplt\u001b[49m.figure(figsize=(\u001b[32m10\u001b[39m, \u001b[32m6\u001b[39m))\n\u001b[32m      4\u001b[39m sns.histplot(df[\u001b[33m'\u001b[39m\u001b[33mPONTUACAO\u001b[39m\u001b[33m'\u001b[39m], kde=\u001b[38;5;28;01mTrue\u001b[39;00m)\n\u001b[32m      5\u001b[39m plt.title(\u001b[33m'\u001b[39m\u001b[33mDistribuição da Pontuação\u001b[39m\u001b[33m'\u001b[39m)\n",
      "\u001b[31mNameError\u001b[39m: name 'plt' is not defined"
     ]
    }
   ],
   "source": [
    "# Distribuição da pontuação (PONTUACAO)\n",
    "\n",
    "plt.figure(figsize=(10, 6))\n",
    "sns.histplot(df['PONTUACAO'], kde=True)\n",
    "plt.title('Distribuição da Pontuação')\n",
    "plt.xlabel('Pontuação')\n",
    "plt.ylabel('Frequência')\n",
    "plt.show()"
   ]
  },
  {
   "cell_type": "code",
   "execution_count": 40,
   "metadata": {
    "colab": {
     "base_uri": "https://localhost:8080/",
     "height": 564
    },
    "executionInfo": {
     "elapsed": 290,
     "status": "ok",
     "timestamp": 1748568373099,
     "user": {
      "displayName": "Raniery Meireles",
      "userId": "08655966175289892114"
     },
     "user_tz": 180
    },
    "id": "9uug51lmk9x3",
    "outputId": "295558d8-5fde-48a1-ee89-758d50bd7173"
   },
   "outputs": [
    {
     "data": {
      "image/png": "[encoded data removed]",
      "text/plain": [
       "<Figure size 800x600 with 1 Axes>"
      ]
     },
     "metadata": {},
     "output_type": "display_data"
    }
   ],
   "source": [
    "# Compare a pontuação entre os sexos\n",
    "\n",
    "plt.figure(figsize=(8, 6))\n",
    "sns.boxplot(data=df, x=\"SEXO\", y=\"PONTUACAO\")\n",
    "\n",
    "plt.title(\"Comparação de pontuação entre os sexos\")\n",
    "plt.xlabel(\"Sexo\")\n",
    "plt.ylabel(\"Pontuação\")\n",
    "plt.grid(True, linestyle=\"--\", alpha=0.5)\n",
    "plt.show()"
   ]
  }
 ],
 "metadata": {
  "colab": {
   "provenance": [
    {
     "file_id": "1DQl5cJFd8WKHR8wV9yCnXQ7f0JyLeMem",
     "timestamp": 1748560388313
    }
   ]
  },
  "kernelspec": {
   "display_name": "Python 3",
   "name": "python3"
  },
  "language_info": {
   "codemirror_mode": {
    "name": "ipython",
    "version": 3
   },
   "file_extension": ".py",
   "mimetype": "text/x-python",
   "name": "python",
   "nbconvert_exporter": "python",
   "pygments_lexer": "ipython3",
   "version": "3.13.3"
  }
 },
 "nbformat": 4,
 "nbformat_minor": 0
}
